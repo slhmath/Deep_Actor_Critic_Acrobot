{
 "cells": [
  {
   "cell_type": "code",
   "execution_count": 1,
   "id": "445e8ce2",
   "metadata": {},
   "outputs": [],
   "source": [
    "import gym\n",
    "import numpy as np\n",
    "import tensorflow as tf\n",
    "from tensorflow import keras\n",
    "from tensorflow.keras import layers\n"
   ]
  },
  {
   "cell_type": "code",
   "execution_count": 3,
   "id": "a3e7eca7",
   "metadata": {},
   "outputs": [],
   "source": [
    "# Choose the 'Acrobot-v1' environment\n",
    "environ = gym.make('Acrobot-v1')\n",
    "environ.seed(1)\n",
    "observe = environ.reset()\n",
    "#action_probs\n",
    "#x= np.squeeze(action_probs)\n",
    "#print(x)\n",
    "#action = np.random.choice(n_act, p=np.squeeze(action_probs))\n",
    "#print(critic_value[0, 0])\n",
    "#print(returns)\n",
    "#import matplotlib.pyplot as pd\n",
    "#pd.hist(-returns)\n",
    "#print(retn)\n"
   ]
  },
  {
   "cell_type": "code",
   "execution_count": 4,
   "id": "610f89f2",
   "metadata": {},
   "outputs": [
    {
     "name": "stderr",
     "output_type": "stream",
     "text": [
      "2021-08-24 20:14:40.245272: I tensorflow/core/platform/cpu_feature_guard.cc:142] This TensorFlow binary is optimized with oneAPI Deep Neural Network Library (oneDNN) to use the following CPU instructions in performance-critical operations:  AVX2 FMA\n",
      "To enable them in other operations, rebuild TensorFlow with the appropriate compiler flags.\n"
     ]
    }
   ],
   "source": [
    "keras.backend.clear_session()\n",
    "tf.random.set_seed(1)\n",
    "np.random.seed(1)\n",
    "\n",
    "in_shape = environ.observation_space.shape[0]\n",
    "n_act = environ.action_space.n\n",
    "\n",
    "\n",
    "inputs = layers.Input(shape=(in_shape,))\n",
    "common1 = layers.Dense(128, activation=\"relu\")(inputs) #2^7=128 nodes for the hidden layer. Why? \n",
    "#One might ask what the benefit of another shared layer would be. I couldn't find a meaningful difference.\n",
    "#common2 = layers.Dense(128, activation=\"relu\")(common1) \n",
    "actor = layers.Dense(n_act, activation=\"softmax\")(common1) # common2 for another shared layer\n",
    "critic = layers.Dense(1)(common1) # common2 for another shared layer\n",
    "\n",
    "model = keras.Model(inputs=inputs, outputs=[actor, critic])\n"
   ]
  },
  {
   "cell_type": "code",
   "execution_count": 5,
   "id": "4246ed20",
   "metadata": {
    "scrolled": false
   },
   "outputs": [
    {
     "name": "stderr",
     "output_type": "stream",
     "text": [
      "2021-08-24 20:14:49.314 Python[9671:569010] ApplePersistenceIgnoreState: Existing state will not be touched. New state will be written to (null)\n"
     ]
    },
    {
     "name": "stdout",
     "output_type": "stream",
     "text": [
      "running reward: -465.65 at episode 10\n",
      "running reward: -354.49 at episode 20\n",
      "running reward: -281.36 at episode 30\n",
      "running reward: -240.48 at episode 40\n",
      "running reward: -234.59 at episode 50\n",
      "running reward: -236.77 at episode 60\n",
      "running reward: -250.16 at episode 70\n",
      "running reward: -265.81 at episode 80\n",
      "running reward: -269.46 at episode 90\n",
      "running reward: -274.79 at episode 100\n",
      "running reward: -254.91 at episode 110\n",
      "running reward: -246.95 at episode 120\n",
      "running reward: -223.73 at episode 130\n",
      "running reward: -199.93 at episode 140\n",
      "running reward: -204.81 at episode 150\n",
      "running reward: -189.55 at episode 160\n",
      "running reward: -191.58 at episode 170\n",
      "running reward: -185.94 at episode 180\n",
      "running reward: -183.80 at episode 190\n",
      "running reward: -194.05 at episode 200\n",
      "running reward: -195.65 at episode 210\n",
      "running reward: -208.92 at episode 220\n",
      "running reward: -199.45 at episode 230\n",
      "running reward: -190.39 at episode 240\n",
      "running reward: -170.84 at episode 250\n",
      "running reward: -161.36 at episode 260\n",
      "Solved at episode 266!\n"
     ]
    }
   ],
   "source": [
    "eps = np.finfo(np.float32).eps.item() #eps wants to be the smallest real number not equal to zero. It tries.\n",
    "discount_rate = 0.99 #\n",
    "optimizer = keras.optimizers.Adam(learning_rate=1e-2) #\n",
    "huber_loss = keras.losses.Huber() #\n",
    "action_probs_history = []\n",
    "critic_value_history = []\n",
    "rewards_history = []\n",
    "episode_count = 0\n",
    "steps_per_epi = 500 #Somewhat arbitrarily set the steps per episode at 500\n",
    "running_reward = -steps_per_epi +1\n",
    "while True:  # This training paradigm is based on the actor-critic implementation to 'solve' cartpole-v0.\n",
    "             # It can be found at the web address https://keras.io/examples/rl/actor_critic_cartpole/\n",
    "    state = environ.reset()\n",
    "    episode_reward = 0\n",
    "    with tf.GradientTape() as tape:\n",
    "        for timestep in range(1, steps_per_epi): \n",
    "            environ.render()\n",
    "            state = tf.convert_to_tensor(state)\n",
    "            state = tf.expand_dims(state, 0)\n",
    "            action_probs, critic_value = model(state)\n",
    "            \n",
    "            # The actor is tasked with predicting action probabilities\n",
    "            # from the 'state' of the acrobot, provided by openai gym acrobot-v environment.\n",
    "            # The critic is given the same input, and asked to predict future rewards.\n",
    "            # We create histories for each here.\n",
    "            \n",
    "            action = np.random.choice(n_act, p=np.squeeze(action_probs))# Sample action from action probability distribution\n",
    "            action_probs_history.append(tf.math.log(action_probs[0, action]))\n",
    "            critic_value_history.append(critic_value[0, 0])\n",
    "\n",
    "            \n",
    "            state, reward, done, _ = environ.step(action) # Apply the sampled action in our environment\n",
    "            rewards_history.append(reward)\n",
    "            episode_reward += reward\n",
    "\n",
    "            if done:\n",
    "                break\n",
    "        \n",
    "        # print(critic_value_history) or print(action_probs_history) to get a feel for the dynamics of actor and critic.\n",
    "        # Instead of initializing running_rewared try episode_reward = steps_per_epi + episode_reward\n",
    "\n",
    "        # Update running reward to (hopefully) obtain condition for solving\n",
    "        running_reward = 0.05 * episode_reward + (1 - 0.05) * running_reward \n",
    "\n",
    "        # Calculate expected value from rewards using Bellman Optimality Equation.\n",
    "        # At each timestep what was the total reward received after that timestep.\n",
    "        returns = []\n",
    "        discounted_sum = 0\n",
    "        for r in rewards_history[::-1]: # This is the main point in the code that differs from Nandan's example.\n",
    "            discounted_sum = r + discount_rate * discounted_sum\n",
    "            returns.append(discounted_sum)  # Nandan had returns.insert(0, discounted_sum), which I believe is a mistake.  \n",
    "        #print(discounted_sum)\n",
    "\n",
    "        # Normalize returns to be compatible with critic predictions. Also taken directly from Nandan's example.\n",
    "        returns = np.array(returns)\n",
    "        returns = (returns - np.mean(returns)) / (np.std(returns) + eps)\n",
    "        returns = returns.tolist()\n",
    "        #print(returns)\n",
    "\n",
    "        # Calculating loss values to update our network\n",
    "        history = zip(action_probs_history, critic_value_history, returns)\n",
    "        actor_losses = []\n",
    "        critic_losses = []\n",
    "        for log_prob, value, retn in history:\n",
    "            # print(log_prob,value, retn)\n",
    "            #print(retn)\n",
    "            # The critic estimates that we get a total reward = `value` in the future. \n",
    "            # We take an action with log probability of `log_prob` and end up recieving a total reward = `retn`.\n",
    "            # The actor should be updated so that with high probability it predicts an action that leads to\n",
    "            # high rewards, taking into account the critic's estimate.\n",
    "            diff = value - retn \n",
    "            actor_losses.append(-log_prob * diff)  # actor loss. I wonder if the sign in front of log matters here.\n",
    "                                                   # given that the sign of 'diff' seems to be arbitrary.\n",
    "\n",
    "            # The critic must be updated so that it predicts a better estimate of\n",
    "            # the future rewards.\n",
    "            critic_losses.append(\n",
    "                huber_loss(tf.expand_dims(value, 0), tf.expand_dims(retn, 0)) \n",
    "            )\n",
    "\n",
    "        # Backpropagation \n",
    "        loss_value = sum(actor_losses) + sum(critic_losses)\n",
    "        grads = tape.gradient(loss_value, model.trainable_variables)\n",
    "        optimizer.apply_gradients(zip(grads, model.trainable_variables))\n",
    "\n",
    "        # Clear the loss and reward history\n",
    "        action_probs_history.clear()\n",
    "        critic_value_history.clear()\n",
    "        rewards_history.clear()\n",
    "\n",
    "    # Print human readable development\n",
    "    episode_count += 1\n",
    "    if episode_count % 10 == 0:\n",
    "        template = \"running reward: {:.2f} at episode {}\"\n",
    "        print(template.format(running_reward, episode_count))\n",
    "        \n",
    "\n",
    "    if running_reward > -150:  # Defined criterion for approximately optimal policy\n",
    "        print(\"Solved at episode {}!\".format(episode_count))\n",
    "        break"
   ]
  },
  {
   "cell_type": "code",
   "execution_count": 18,
   "id": "ae0d7641",
   "metadata": {},
   "outputs": [],
   "source": [
    "# Create this function to test the agent below\n",
    "def one_step(environ, state):\n",
    "    state = tf.convert_to_tensor(state)\n",
    "    state = tf.expand_dims(state, 0)\n",
    "    action_probs, critic_value = model(state)\n",
    "    action = np.random.choice(n_act, p=np.squeeze(action_probs))# Sample action from action probability distribution\n",
    "    state, reward, done, _ = environ.step(action) # Apply the sampled action in our environment\n",
    "    return state, reward, done, _\n"
   ]
  },
  {
   "cell_type": "code",
   "execution_count": 33,
   "id": "4e1c889d",
   "metadata": {},
   "outputs": [
    {
     "name": "stdout",
     "output_type": "stream",
     "text": [
      "98\n"
     ]
    }
   ],
   "source": [
    "# Let's test the agent. Take 1. See 'Test_Run_1.gif' file in Deep_Q_Learning repository or READ_ME\n",
    "observe = environ.reset()\n",
    "steps_per_test = 500\n",
    "for step in range(1,steps_per_test):\n",
    "    observe, reward, done, info = one_step(environ, observe)\n",
    "    if done:\n",
    "        break\n",
    "    environ.render()\n",
    "print(step) "
   ]
  },
  {
   "cell_type": "code",
   "execution_count": 34,
   "id": "f1bc8452",
   "metadata": {},
   "outputs": [
    {
     "name": "stdout",
     "output_type": "stream",
     "text": [
      "111\n"
     ]
    }
   ],
   "source": [
    "# Test 2\n",
    "observe = environ.reset()\n",
    "steps_per_test = 500\n",
    "for step in range(1,steps_per_test):\n",
    "    observe, reward, done, info = one_step(environ, observe)\n",
    "    if done:\n",
    "        break\n",
    "    environ.render()\n",
    "print(step) "
   ]
  },
  {
   "cell_type": "code",
   "execution_count": 35,
   "id": "9eaecb03",
   "metadata": {},
   "outputs": [
    {
     "name": "stdout",
     "output_type": "stream",
     "text": [
      "130\n"
     ]
    }
   ],
   "source": [
    "# Test 3\n",
    "observe = environ.reset()\n",
    "steps_per_test = 500\n",
    "for step in range(1,steps_per_test):\n",
    "    observe, reward, done, info = one_step(environ, observe)\n",
    "    if done:\n",
    "        break\n",
    "    environ.render()\n",
    "print(step) "
   ]
  },
  {
   "cell_type": "code",
   "execution_count": 36,
   "id": "0174af33",
   "metadata": {},
   "outputs": [
    {
     "name": "stdout",
     "output_type": "stream",
     "text": [
      "137\n"
     ]
    }
   ],
   "source": [
    "# Test 4\n",
    "observe = environ.reset()\n",
    "steps_per_test = 500\n",
    "for step in range(1,steps_per_test):\n",
    "    observe, reward, done, info = one_step(environ, observe)\n",
    "    if done:\n",
    "        break\n",
    "    environ.render()\n",
    "print(step) "
   ]
  }
 ],
 "metadata": {
  "kernelspec": {
   "display_name": "Python 3 (ipykernel)",
   "language": "python",
   "name": "python3"
  },
  "language_info": {
   "codemirror_mode": {
    "name": "ipython",
    "version": 3
   },
   "file_extension": ".py",
   "mimetype": "text/x-python",
   "name": "python",
   "nbconvert_exporter": "python",
   "pygments_lexer": "ipython3",
   "version": "3.7.7"
  }
 },
 "nbformat": 4,
 "nbformat_minor": 5
}
