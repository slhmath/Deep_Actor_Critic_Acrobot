{
 "cells": [
  {
   "cell_type": "code",
   "execution_count": 1,
   "id": "ea8b7b46",
   "metadata": {},
   "outputs": [],
   "source": [
    "import gym\n",
    "import numpy as np\n",
    "import tensorflow as tf\n",
    "from tensorflow import keras\n",
    "from tensorflow.keras import layers\n"
   ]
  },
  {
   "cell_type": "code",
   "execution_count": 2,
   "id": "bb26b7fa",
   "metadata": {},
   "outputs": [],
   "source": [
    "# Choose the 'Acrobot-v1' environment\n",
    "environ = gym.make('Acrobot-v1')\n",
    "environ.seed(1)\n",
    "observe = environ.reset()"
   ]
  },
  {
   "cell_type": "code",
   "execution_count": 3,
   "id": "906ec1ee",
   "metadata": {},
   "outputs": [
    {
     "name": "stderr",
     "output_type": "stream",
     "text": [
      "2021-09-28 09:57:56.686467: I tensorflow/core/platform/cpu_feature_guard.cc:142] This TensorFlow binary is optimized with oneAPI Deep Neural Network Library (oneDNN) to use the following CPU instructions in performance-critical operations:  AVX2 FMA\n",
      "To enable them in other operations, rebuild TensorFlow with the appropriate compiler flags.\n"
     ]
    }
   ],
   "source": [
    "keras.backend.clear_session()\n",
    "tf.random.set_seed(1)\n",
    "np.random.seed(1)\n",
    "\n",
    "in_shape = environ.observation_space.shape[0]\n",
    "n_act = environ.action_space.n\n",
    "\n",
    "\n",
    "inputs = layers.Input(shape=(in_shape,))\n",
    "common1 = layers.Dense(128, activation=\"relu\")(inputs)  \n",
    "actor = layers.Dense(n_act, activation=\"softmax\")(common1)\n",
    "critic = layers.Dense(1)(common1) \n",
    "\n",
    "model = keras.Model(inputs=inputs, outputs=[actor, critic])\n"
   ]
  },
  {
   "cell_type": "code",
   "execution_count": 4,
   "id": "b5c1b265",
   "metadata": {
    "scrolled": true
   },
   "outputs": [
    {
     "name": "stderr",
     "output_type": "stream",
     "text": [
      "2021-09-28 09:57:57.184 Python[5412:654874] ApplePersistenceIgnoreState: Existing state will not be touched. New state will be written to (null)\n"
     ]
    },
    {
     "name": "stdout",
     "output_type": "stream",
     "text": [
      "running reward: -448.18 at episode 10\n",
      "running reward: -348.69 at episode 20\n",
      "running reward: -321.77 at episode 30\n",
      "running reward: -286.32 at episode 40\n",
      "running reward: -257.63 at episode 50\n",
      "running reward: -211.34 at episode 60\n",
      "running reward: -174.77 at episode 70\n",
      "running reward: -149.82 at episode 80\n",
      "running reward: -141.32 at episode 90\n",
      "running reward: -132.54 at episode 100\n",
      "running reward: -127.84 at episode 110\n",
      "running reward: -129.59 at episode 120\n",
      "running reward: -132.98 at episode 130\n",
      "running reward: -138.36 at episode 140\n",
      "running reward: -139.45 at episode 150\n",
      "running reward: -133.11 at episode 160\n",
      "running reward: -132.04 at episode 170\n",
      "running reward: -141.34 at episode 180\n",
      "running reward: -139.12 at episode 190\n",
      "running reward: -143.84 at episode 200\n",
      "running reward: -154.06 at episode 210\n",
      "running reward: -152.80 at episode 220\n",
      "running reward: -145.29 at episode 230\n",
      "running reward: -133.94 at episode 240\n",
      "running reward: -141.76 at episode 250\n",
      "running reward: -134.78 at episode 260\n",
      "running reward: -124.43 at episode 270\n",
      "running reward: -122.26 at episode 280\n",
      "running reward: -124.22 at episode 290\n",
      "running reward: -117.79 at episode 300\n",
      "running reward: -116.95 at episode 310\n",
      "Solved at episode 313!\n"
     ]
    }
   ],
   "source": [
    "eps = np.finfo(np.float32).eps.item() #eps wants to be the smallest positive real number not equal to zero. It tries.\n",
    "discount_rate = 0.99 # .99 Discount Factor/Gamma\n",
    "optimizer = keras.optimizers.Adam(learning_rate=1e-2) # Try ADAM optimizer\n",
    "loss_fn = keras.losses.mean_absolute_error # loss function\n",
    "action_probs_history = []\n",
    "critic_value_history = []\n",
    "rewards_history = []\n",
    "episode_count = 0\n",
    "steps_per_epi = 500 #max\n",
    "running_reward = -steps_per_epi +1\n",
    "while True:  # This training paradigm is based on the actor-critic implementation to 'solve' cartpole-v0.\n",
    "             # It can be found at the web address https://keras.io/examples/rl/actor_critic_cartpole/\n",
    "    state = environ.reset()\n",
    "    episode_reward = 0\n",
    "    with tf.GradientTape() as tape:\n",
    "        for timestep in range(1, steps_per_epi): \n",
    "            environ.render()\n",
    "            state = tf.convert_to_tensor(state)\n",
    "            state = tf.expand_dims(state, 0)\n",
    "            action_probs, critic_value = model(state)\n",
    "            \n",
    "            # The actor is tasked with predicting action probabilities\n",
    "            # from the 'state' of the acrobot, provided by openai gym acrobot-v environment.\n",
    "            # The critic is given the same state, and asked to approximate the value function.\n",
    "            # We create histories for each here.\n",
    "            \n",
    "            action = np.random.choice(n_act, p=np.squeeze(action_probs))# Sample action from action probability distribution\n",
    "            action_probs_history.append(tf.math.log(action_probs[0, action]))\n",
    "            critic_value_history.append(critic_value[0, 0])\n",
    "\n",
    "            \n",
    "            state, reward, done, _ = environ.step(action) # Apply the sampled action in our environment\n",
    "            rewards_history.append(reward)\n",
    "            episode_reward += reward\n",
    "\n",
    "            if done:\n",
    "                break\n",
    "        \n",
    "\n",
    "        # Update running reward to define condition for solving\n",
    "        running_reward = 0.05 * episode_reward + (1 - 0.05) * running_reward \n",
    "\n",
    "\n",
    "        # At each timestep what was the total reward received after that timestep.\n",
    "        returns = []\n",
    "        discounted_sum = 0\n",
    "        for r in rewards_history[::-1]: \n",
    "            discounted_sum = r + discount_rate * discounted_sum\n",
    "            returns.append(discounted_sum)  # Not returns.insert(0, discounted_sum)\n",
    "\n",
    "        # Normalize returns to be compatible with critic predictions. Also taken directly from Nandan's example.\n",
    "        returns = np.array(returns)\n",
    "        returns = (returns - np.mean(returns)) / (np.std(returns) + eps)\n",
    "        returns = returns.tolist()\n",
    "        #print(returns)\n",
    "\n",
    "        # Calculating loss values to update our network\n",
    "        history = zip(action_probs_history, critic_value_history, returns)\n",
    "        actor_score = []\n",
    "        critic_losses = []\n",
    "        for log_prob, value, retn in history:\n",
    "            # The critic estimation of the state value function is `value`. \n",
    "            # We take an action determined by the actors policy structure and end up recieving a return `retn`.\n",
    "            diff = retn - value # The state value function does not contribute in expectation\n",
    "            actor_score.append(log_prob * diff)  # The actor score is thus the gradient of log_prob. \n",
    "                                                 # The policy gradient is the expect value of this gradient multiplied\n",
    "                                                 # by diff. We approximate the policy gradient by sampling\n",
    "\n",
    "            # The critic peforms policy evaluation on the policy chosen by the actor.\n",
    "            critic_losses.append(\n",
    "                loss_fn(tf.expand_dims(value, 0), tf.expand_dims(retn, 0)) \n",
    "            )\n",
    "\n",
    "        # Backpropagation \n",
    "        loss_value = sum(actor_score) + sum(critic_losses)\n",
    "        grads = tape.gradient(loss_value, model.trainable_variables)\n",
    "        optimizer.apply_gradients(zip(grads, model.trainable_variables))\n",
    "\n",
    "        # Clear the loss and reward history\n",
    "        action_probs_history.clear()\n",
    "        critic_value_history.clear()\n",
    "        rewards_history.clear()\n",
    "\n",
    "    # Print human readable development\n",
    "    episode_count += 1\n",
    "    if episode_count % 10 == 0:\n",
    "        template = \"running reward: {:.2f} at episode {}\"\n",
    "        print(template.format(running_reward, episode_count))\n",
    "        \n",
    "\n",
    "    if running_reward > -115:  # Defined criterion for approximately optimal policy\n",
    "        print(\"Solved at episode {}!\".format(episode_count))\n",
    "        break"
   ]
  },
  {
   "cell_type": "code",
   "execution_count": 5,
   "id": "fbc988b6",
   "metadata": {},
   "outputs": [],
   "source": [
    "# Create this function to test the agent below\n",
    "def one_step(environ, state):\n",
    "    state = tf.convert_to_tensor(state)\n",
    "    state = tf.expand_dims(state, 0)\n",
    "    action_probs, critic_value = model(state)\n",
    "    action = np.random.choice(n_act, p=np.squeeze(action_probs))\n",
    "    state, reward, done, _ = environ.step(action) \n",
    "    environ.render()\n",
    "    return state, reward, done, _\n"
   ]
  },
  {
   "cell_type": "code",
   "execution_count": 6,
   "id": "defe9962",
   "metadata": {},
   "outputs": [
    {
     "name": "stdout",
     "output_type": "stream",
     "text": [
      "97\n"
     ]
    }
   ],
   "source": [
    "# Let's test the agent. Take 1. See READ_ME file in the Deep Actor Critic repository\n",
    "# Test 1\n",
    "observe = environ.reset()\n",
    "steps_per_test = 500\n",
    "for step in range(1,steps_per_test):\n",
    "    observe, reward, done, info = one_step(environ, observe)\n",
    "    if done:\n",
    "        break\n",
    "    environ.render()\n",
    "print(step) "
   ]
  },
  {
   "cell_type": "code",
   "execution_count": 7,
   "id": "826ee94b",
   "metadata": {},
   "outputs": [
    {
     "name": "stdout",
     "output_type": "stream",
     "text": [
      "121\n"
     ]
    }
   ],
   "source": [
    "# Test 2\n",
    "observe = environ.reset()\n",
    "steps_per_test = 500\n",
    "for step in range(1,steps_per_test):\n",
    "    observe, reward, done, info = one_step(environ, observe)\n",
    "    if done:\n",
    "        break\n",
    "    environ.render()\n",
    "print(step) "
   ]
  },
  {
   "cell_type": "code",
   "execution_count": 8,
   "id": "ff7c59e3",
   "metadata": {},
   "outputs": [
    {
     "name": "stdout",
     "output_type": "stream",
     "text": [
      "100\n"
     ]
    }
   ],
   "source": [
    "# Test 3\n",
    "observe = environ.reset()\n",
    "steps_per_test = 500\n",
    "for step in range(1,steps_per_test):\n",
    "    observe, reward, done, info = one_step(environ, observe)\n",
    "    if done:\n",
    "        break\n",
    "    environ.render()\n",
    "print(step) "
   ]
  },
  {
   "cell_type": "code",
   "execution_count": 9,
   "id": "760aa953",
   "metadata": {},
   "outputs": [
    {
     "name": "stdout",
     "output_type": "stream",
     "text": [
      "84\n"
     ]
    }
   ],
   "source": [
    "# Test 4\n",
    "observe = environ.reset()\n",
    "steps_per_test = 500\n",
    "for step in range(1,steps_per_test):\n",
    "    observe, reward, done, info = one_step(environ, observe)\n",
    "    if done:\n",
    "        break\n",
    "    environ.render()\n",
    "print(step)"
   ]
  },
  {
   "cell_type": "code",
   "execution_count": 13,
   "id": "0c41fa3f",
   "metadata": {},
   "outputs": [
    {
     "name": "stdout",
     "output_type": "stream",
     "text": [
      "110\n"
     ]
    }
   ],
   "source": [
    "# Test 4\n",
    "observe = environ.reset()\n",
    "steps_per_test = 500\n",
    "for step in range(1,steps_per_test):\n",
    "    observe, reward, done, info = one_step(environ, observe)\n",
    "    if done:\n",
    "        break\n",
    "    environ.render()\n",
    "print(step)"
   ]
  }
 ],
 "metadata": {
  "kernelspec": {
   "display_name": "Python 3 (ipykernel)",
   "language": "python",
   "name": "python3"
  },
  "language_info": {
   "codemirror_mode": {
    "name": "ipython",
    "version": 3
   },
   "file_extension": ".py",
   "mimetype": "text/x-python",
   "name": "python",
   "nbconvert_exporter": "python",
   "pygments_lexer": "ipython3",
   "version": "3.7.7"
  }
 },
 "nbformat": 4,
 "nbformat_minor": 5
}
