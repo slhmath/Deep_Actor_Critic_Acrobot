{
 "cells": [
  {
   "cell_type": "code",
   "execution_count": 1,
   "id": "ea8b7b46",
   "metadata": {},
   "outputs": [],
   "source": [
    "import gym\n",
    "import numpy as np\n",
    "import tensorflow as tf\n",
    "from tensorflow import keras\n",
    "from tensorflow.keras import layers\n"
   ]
  },
  {
   "cell_type": "code",
   "execution_count": 2,
   "id": "bb26b7fa",
   "metadata": {},
   "outputs": [],
   "source": [
    "# Choose the 'Acrobot-v1' environment\n",
    "environ = gym.make('Acrobot-v1')\n",
    "environ.seed(1)\n",
    "observe = environ.reset()"
   ]
  },
  {
   "cell_type": "code",
   "execution_count": 3,
   "id": "906ec1ee",
   "metadata": {},
   "outputs": [
    {
     "name": "stderr",
     "output_type": "stream",
     "text": [
      "2021-09-27 18:52:21.064371: I tensorflow/core/platform/cpu_feature_guard.cc:142] This TensorFlow binary is optimized with oneAPI Deep Neural Network Library (oneDNN) to use the following CPU instructions in performance-critical operations:  AVX2 FMA\n",
      "To enable them in other operations, rebuild TensorFlow with the appropriate compiler flags.\n"
     ]
    }
   ],
   "source": [
    "keras.backend.clear_session()\n",
    "tf.random.set_seed(1)\n",
    "np.random.seed(1)\n",
    "\n",
    "in_shape = environ.observation_space.shape[0]\n",
    "n_act = environ.action_space.n\n",
    "\n",
    "\n",
    "inputs = layers.Input(shape=(in_shape,))\n",
    "common1 = layers.Dense(128, activation=\"relu\")(inputs)  \n",
    "actor = layers.Dense(n_act, activation=\"softmax\")(common1)\n",
    "critic = layers.Dense(1)(common1) \n",
    "\n",
    "model = keras.Model(inputs=inputs, outputs=[actor, critic])\n"
   ]
  },
  {
   "cell_type": "code",
   "execution_count": 4,
   "id": "b5c1b265",
   "metadata": {
    "scrolled": false
   },
   "outputs": [
    {
     "name": "stderr",
     "output_type": "stream",
     "text": [
      "2021-09-27 18:52:21.566 Python[4547:616084] ApplePersistenceIgnoreState: Existing state will not be touched. New state will be written to (null)\n"
     ]
    },
    {
     "name": "stdout",
     "output_type": "stream",
     "text": [
      "running reward: -448.18 at episode 10\n",
      "running reward: -348.69 at episode 20\n",
      "running reward: -321.77 at episode 30\n",
      "running reward: -286.32 at episode 40\n",
      "running reward: -257.63 at episode 50\n",
      "running reward: -211.34 at episode 60\n",
      "running reward: -174.77 at episode 70\n",
      "running reward: -149.82 at episode 80\n",
      "Solved at episode 80!\n"
     ]
    }
   ],
   "source": [
    "eps = np.finfo(np.float32).eps.item() #eps wants to be the smallest positive real number not equal to zero. It tries.\n",
    "discount_rate = 0.99 # .99 Discount Factor/Gamma\n",
    "optimizer = keras.optimizers.Adam(learning_rate=1e-2) # Try ADAM optimizer\n",
    "loss_fn = keras.losses.mean_absolute_error # loss function\n",
    "action_probs_history = []\n",
    "critic_value_history = []\n",
    "rewards_history = []\n",
    "episode_count = 0\n",
    "steps_per_epi = 500 #max\n",
    "running_reward = -steps_per_epi +1\n",
    "while True:  # This training paradigm is based on the actor-critic implementation to 'solve' cartpole-v0.\n",
    "             # It can be found at the web address https://keras.io/examples/rl/actor_critic_cartpole/\n",
    "    state = environ.reset()\n",
    "    episode_reward = 0\n",
    "    with tf.GradientTape() as tape:\n",
    "        for timestep in range(1, steps_per_epi): \n",
    "            environ.render()\n",
    "            state = tf.convert_to_tensor(state)\n",
    "            state = tf.expand_dims(state, 0)\n",
    "            action_probs, critic_value = model(state)\n",
    "            \n",
    "            # The actor is tasked with predicting action probabilities\n",
    "            # from the 'state' of the acrobot, provided by openai gym acrobot-v environment.\n",
    "            # The critic is given the same input, and asked to predict future rewards.\n",
    "            # We create histories for each here.\n",
    "            \n",
    "            action = np.random.choice(n_act, p=np.squeeze(action_probs))# Sample action from action probability distribution\n",
    "            action_probs_history.append(tf.math.log(action_probs[0, action]))\n",
    "            critic_value_history.append(critic_value[0, 0])\n",
    "\n",
    "            \n",
    "            state, reward, done, _ = environ.step(action) # Apply the sampled action in our environment\n",
    "            rewards_history.append(reward)\n",
    "            episode_reward += reward\n",
    "\n",
    "            if done:\n",
    "                break\n",
    "        \n",
    "        # print(critic_value_history) or print(action_probs_history) to get a feel for the dynamics of actor and critic.\n",
    "        # Instead of initializing running_rewared try episode_reward = steps_per_epi + episode_reward\n",
    "\n",
    "        # Update running reward to (hopefully) obtain condition for solving\n",
    "        running_reward = 0.05 * episode_reward + (1 - 0.05) * running_reward \n",
    "\n",
    "\n",
    "        # At each timestep what was the total reward received after that timestep.\n",
    "        returns = []\n",
    "        discounted_sum = 0\n",
    "        for r in rewards_history[::-1]: \n",
    "            discounted_sum = r + discount_rate * discounted_sum\n",
    "            returns.append(discounted_sum)  # Not returns.insert(0, discounted_sum)\n",
    "\n",
    "        # Normalize returns to be compatible with critic predictions. Also taken directly from Nandan's example.\n",
    "        returns = np.array(returns)\n",
    "        returns = (returns - np.mean(returns)) / (np.std(returns) + eps)\n",
    "        returns = returns.tolist()\n",
    "        #print(returns)\n",
    "\n",
    "        # Calculating loss values to update our network\n",
    "        history = zip(action_probs_history, critic_value_history, returns)\n",
    "        actor_losses = []\n",
    "        critic_losses = []\n",
    "        for log_prob, value, retn in history:\n",
    "            # print(log_prob,value, retn)\n",
    "            #print(retn)\n",
    "            # The critic estimates that we get a total reward = `value` in the future. \n",
    "            # We take an action with log probability of `log_prob` and end up recieving a total reward = `retn`.\n",
    "            # The actor should be updated so that with high probability it predicts an action that leads to\n",
    "            # high rewards, taking into account the critic's estimate.\n",
    "            diff = retn - value \n",
    "            actor_losses.append(log_prob * diff)  # actor loss. \n",
    "\n",
    "            # The critic must be updated so that it predicts a better estimate of\n",
    "            # the future rewards.\n",
    "            critic_losses.append(\n",
    "                loss_fn(tf.expand_dims(value, 0), tf.expand_dims(retn, 0)) \n",
    "            )\n",
    "\n",
    "        # Backpropagation \n",
    "        loss_value = sum(actor_losses) + sum(critic_losses)\n",
    "        grads = tape.gradient(loss_value, model.trainable_variables)\n",
    "        optimizer.apply_gradients(zip(grads, model.trainable_variables))\n",
    "\n",
    "        # Clear the loss and reward history\n",
    "        action_probs_history.clear()\n",
    "        critic_value_history.clear()\n",
    "        rewards_history.clear()\n",
    "\n",
    "    # Print human readable development\n",
    "    episode_count += 1\n",
    "    if episode_count % 10 == 0:\n",
    "        template = \"running reward: {:.2f} at episode {}\"\n",
    "        print(template.format(running_reward, episode_count))\n",
    "        \n",
    "\n",
    "    if running_reward > -150:  # Defined criterion for approximately optimal policy\n",
    "        print(\"Solved at episode {}!\".format(episode_count))\n",
    "        break"
   ]
  },
  {
   "cell_type": "code",
   "execution_count": 5,
   "id": "fbc988b6",
   "metadata": {},
   "outputs": [],
   "source": [
    "# Create this function to test the agent below\n",
    "def one_step(environ, state):\n",
    "    state = tf.convert_to_tensor(state)\n",
    "    state = tf.expand_dims(state, 0)\n",
    "    action_probs, critic_value = model(state)\n",
    "    action = np.random.choice(n_act, p=np.squeeze(action_probs))# Sample action from action probability distribution\n",
    "    state, reward, done, _ = environ.step(action) # Apply the sampled action in our environment\n",
    "    environ.render()\n",
    "    return state, reward, done, _\n"
   ]
  },
  {
   "cell_type": "code",
   "execution_count": 7,
   "id": "defe9962",
   "metadata": {},
   "outputs": [
    {
     "name": "stdout",
     "output_type": "stream",
     "text": [
      "105\n"
     ]
    }
   ],
   "source": [
    "# Let's test the agent. Take 1. See READ_ME file in the Deep Actor Critic repository\n",
    "# Test 1\n",
    "observe = environ.reset()\n",
    "steps_per_test = 500\n",
    "for step in range(1,steps_per_test):\n",
    "    observe, reward, done, info = one_step(environ, observe)\n",
    "    if done:\n",
    "        break\n",
    "    environ.render()\n",
    "print(step) "
   ]
  },
  {
   "cell_type": "code",
   "execution_count": 8,
   "id": "826ee94b",
   "metadata": {},
   "outputs": [
    {
     "name": "stdout",
     "output_type": "stream",
     "text": [
      "106\n"
     ]
    }
   ],
   "source": [
    "# Test 2\n",
    "observe = environ.reset()\n",
    "steps_per_test = 500\n",
    "for step in range(1,steps_per_test):\n",
    "    observe, reward, done, info = one_step(environ, observe)\n",
    "    if done:\n",
    "        break\n",
    "    environ.render()\n",
    "print(step) "
   ]
  },
  {
   "cell_type": "code",
   "execution_count": 9,
   "id": "ff7c59e3",
   "metadata": {},
   "outputs": [
    {
     "name": "stdout",
     "output_type": "stream",
     "text": [
      "96\n"
     ]
    }
   ],
   "source": [
    "# Test 3\n",
    "observe = environ.reset()\n",
    "steps_per_test = 500\n",
    "for step in range(1,steps_per_test):\n",
    "    observe, reward, done, info = one_step(environ, observe)\n",
    "    if done:\n",
    "        break\n",
    "    environ.render()\n",
    "print(step) "
   ]
  },
  {
   "cell_type": "code",
   "execution_count": 10,
   "id": "760aa953",
   "metadata": {},
   "outputs": [
    {
     "name": "stdout",
     "output_type": "stream",
     "text": [
      "111\n"
     ]
    }
   ],
   "source": [
    "# Test 4\n",
    "observe = environ.reset()\n",
    "steps_per_test = 500\n",
    "for step in range(1,steps_per_test):\n",
    "    observe, reward, done, info = one_step(environ, observe)\n",
    "    if done:\n",
    "        break\n",
    "    environ.render()\n",
    "print(step)"
   ]
  }
 ],
 "metadata": {
  "kernelspec": {
   "display_name": "Python 3 (ipykernel)",
   "language": "python",
   "name": "python3"
  },
  "language_info": {
   "codemirror_mode": {
    "name": "ipython",
    "version": 3
   },
   "file_extension": ".py",
   "mimetype": "text/x-python",
   "name": "python",
   "nbconvert_exporter": "python",
   "pygments_lexer": "ipython3",
   "version": "3.7.7"
  }
 },
 "nbformat": 4,
 "nbformat_minor": 5
}
